{
 "cells": [
  {
   "cell_type": "code",
   "execution_count": 1,
   "metadata": {},
   "outputs": [],
   "source": [
    "import open3d as o3d"
   ]
  },
  {
   "cell_type": "code",
   "execution_count": 2,
   "metadata": {},
   "outputs": [],
   "source": [
    "cloud1 = o3d.io.read_point_cloud(\"obj_1.ply\") # Read the point cloud"
   ]
  },
  {
   "cell_type": "code",
   "execution_count": 7,
   "metadata": {},
   "outputs": [],
   "source": [
    "downobj1 = cloud.voxel_down_sample(voxel_size=0.8)"
   ]
  },
  {
   "cell_type": "code",
   "execution_count": 3,
   "metadata": {},
   "outputs": [
    {
     "data": {
      "text/plain": [
       "True"
      ]
     },
     "execution_count": 3,
     "metadata": {},
     "output_type": "execute_result"
    }
   ],
   "source": [
    "o3d.io.write_point_cloud(\"obj_1.pcd\", cloud1)"
   ]
  },
  {
   "cell_type": "code",
   "execution_count": 5,
   "metadata": {},
   "outputs": [
    {
     "data": {
      "text/plain": [
       "True"
      ]
     },
     "execution_count": 5,
     "metadata": {},
     "output_type": "execute_result"
    }
   ],
   "source": [
    "cloud2 = o3d.io.read_point_cloud(\"obj_2.ply\")\n",
    "#downobj2 = cloud.voxel_down_sample(voxel_size=0.8)\n",
    "o3d.io.write_point_cloud(\"obj_2.pcd\", cloud2)"
   ]
  },
  {
   "cell_type": "code",
   "execution_count": 6,
   "metadata": {},
   "outputs": [
    {
     "data": {
      "text/plain": [
       "True"
      ]
     },
     "execution_count": 6,
     "metadata": {},
     "output_type": "execute_result"
    }
   ],
   "source": [
    "cloud3 = o3d.io.read_point_cloud(\"obj_3.ply\")\n",
    "#downobj3 = cloud.voxel_down_sample(voxel_size=0.8)\n",
    "o3d.io.write_point_cloud(\"obj_3.pcd\", cloud3)"
   ]
  },
  {
   "cell_type": "code",
   "execution_count": 7,
   "metadata": {},
   "outputs": [
    {
     "data": {
      "text/plain": [
       "True"
      ]
     },
     "execution_count": 7,
     "metadata": {},
     "output_type": "execute_result"
    }
   ],
   "source": [
    "cloud4 = o3d.io.read_point_cloud(\"obj_4.ply\")\n",
    "#downobj4 = cloud.voxel_down_sample(voxel_size=0.8)\n",
    "o3d.io.write_point_cloud(\"obj_4.pcd\", cloud4)"
   ]
  },
  {
   "cell_type": "code",
   "execution_count": 9,
   "metadata": {},
   "outputs": [
    {
     "data": {
      "text/plain": [
       "True"
      ]
     },
     "execution_count": 9,
     "metadata": {},
     "output_type": "execute_result"
    }
   ],
   "source": [
    "cloud5 = o3d.io.read_point_cloud(\"obj_5.ply\")\n",
    "#downobj5 = cloud.voxel_down_sample(voxel_size=0.8)\n",
    "o3d.io.write_point_cloud(\"obj_5.pcd\", cloud5)"
   ]
  },
  {
   "cell_type": "code",
   "execution_count": 10,
   "metadata": {},
   "outputs": [
    {
     "data": {
      "text/plain": [
       "True"
      ]
     },
     "execution_count": 10,
     "metadata": {},
     "output_type": "execute_result"
    }
   ],
   "source": [
    "cloud6 = o3d.io.read_point_cloud(\"obj_6.ply\")\n",
    "#downobj6 = cloud.voxel_down_sample(voxel_size=0.8)\n",
    "o3d.io.write_point_cloud(\"obj_6.pcd\", cloud6)"
   ]
  },
  {
   "cell_type": "code",
   "execution_count": 11,
   "metadata": {},
   "outputs": [
    {
     "data": {
      "text/plain": [
       "True"
      ]
     },
     "execution_count": 11,
     "metadata": {},
     "output_type": "execute_result"
    }
   ],
   "source": [
    "cloud7 = o3d.io.read_point_cloud(\"obj_7.ply\")\n",
    "#downobj7 = cloud.voxel_down_sample(voxel_size=0.8)\n",
    "o3d.io.write_point_cloud(\"obj_7.pcd\", cloud7)"
   ]
  },
  {
   "cell_type": "code",
   "execution_count": 12,
   "metadata": {},
   "outputs": [
    {
     "data": {
      "text/plain": [
       "True"
      ]
     },
     "execution_count": 12,
     "metadata": {},
     "output_type": "execute_result"
    }
   ],
   "source": [
    "cloud8 = o3d.io.read_point_cloud(\"obj_8.ply\")\n",
    "#downobj8 = cloud.voxel_down_sample(voxel_size=0.8)\n",
    "o3d.io.write_point_cloud(\"obj_8.pcd\", cloud8)"
   ]
  }
 ],
 "metadata": {
  "interpreter": {
   "hash": "017959199a4a10639e0b0bdc4e6378b335e2c0a63c338cc8fb02fda498786956"
  },
  "kernelspec": {
   "display_name": "Python 3.6.13 64-bit ('pvn3d': conda)",
   "name": "python3"
  },
  "language_info": {
   "codemirror_mode": {
    "name": "ipython",
    "version": 3
   },
   "file_extension": ".py",
   "mimetype": "text/x-python",
   "name": "python",
   "nbconvert_exporter": "python",
   "pygments_lexer": "ipython3",
   "version": "3.6.13"
  }
 },
 "nbformat": 4,
 "nbformat_minor": 4
}