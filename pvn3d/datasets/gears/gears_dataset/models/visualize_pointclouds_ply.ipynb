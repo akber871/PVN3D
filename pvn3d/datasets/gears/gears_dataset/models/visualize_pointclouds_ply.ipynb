{
 "cells": [
  {
   "cell_type": "code",
   "execution_count": 5,
   "metadata": {},
   "outputs": [],
   "source": [
    "import open3d as o3d\n",
    "import numpy as np\n",
    "from open3d import *"
   ]
  },
  {
   "cell_type": "code",
   "execution_count": 46,
   "metadata": {},
   "outputs": [
    {
     "data": {
      "text/plain": [
       "True"
      ]
     },
     "execution_count": 46,
     "metadata": {},
     "output_type": "execute_result"
    }
   ],
   "source": [
    "cloud = o3d.io.read_point_cloud(\"obj_1.ply\")\n",
    "downobj = cloud.voxel_down_sample(voxel_size=0.2)\n",
    "o3d.io.write_point_cloud(\"obj_111.pcd\", downobj)"
   ]
  },
  {
   "cell_type": "code",
   "execution_count": 47,
   "metadata": {},
   "outputs": [],
   "source": [
    "\n",
    "cloud_pcd = o3d.io.read_point_cloud(\"obj_111.pcd\") # Read the point cloud\n",
    "o3d.visualization.draw_geometries([cloud_pcd]) # Visualize the point cloud     "
   ]
  },
  {
   "cell_type": "code",
   "execution_count": 48,
   "metadata": {},
   "outputs": [
    {
     "name": "stdout",
     "output_type": "stream",
     "text": [
      "1\n"
     ]
    }
   ],
   "source": [
    "points = np.asarray(cloud_pcd.points)\n",
    "print(len(points))"
   ]
  },
  {
   "cell_type": "code",
   "execution_count": null,
   "metadata": {},
   "outputs": [],
   "source": [
    "import scipy.io\n",
    "mat = scipy.io.loadmat('/home/akber/Desktop/previous_synthetic_images/meta/0-meta.mat')"
   ]
  }
 ],
 "metadata": {
  "interpreter": {
   "hash": "017959199a4a10639e0b0bdc4e6378b335e2c0a63c338cc8fb02fda498786956"
  },
  "kernelspec": {
   "display_name": "Python 3.6.13 64-bit ('pvn3d': conda)",
   "name": "python3"
  },
  "language_info": {
   "codemirror_mode": {
    "name": "ipython",
    "version": 3
   },
   "file_extension": ".py",
   "mimetype": "text/x-python",
   "name": "python",
   "nbconvert_exporter": "python",
   "pygments_lexer": "ipython3",
   "version": "3.6.13"
  }
 },
 "nbformat": 4,
 "nbformat_minor": 4
}